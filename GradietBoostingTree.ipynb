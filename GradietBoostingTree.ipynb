{
 "cells": [
  {
   "cell_type": "code",
   "execution_count": 9,
   "metadata": {},
   "outputs": [],
   "source": [
    "# ONLY FOR GOOGLE COLAB\n",
    "from getpass import getpass\n",
    "import os\n",
    "\n",
    "#os.environ['USER'] = input('Enter the username of your Github account: ') \n",
    "os.environ['PASSWORD'] = getpass('Enter the password of your Github account: ')\n",
    "#os.environ['REPOSITORY'] = input('Enter the name of the Github repository: ')\n",
    "\n",
    "os.environ['USER'] = 'DimiDR'\n",
    "os.environ['REPOSITORY'] = 'RentPredData'\n",
    "\n",
    "\n",
    "os.environ['GITHUB_AUTH'] = os.environ['USER'] + ':' + os.environ['PASSWORD']\n",
    "\n",
    "!rm -rf $REPOSITORY # To remove the previous clone of the Github repository\n",
    "!git clone https://$GITHUB_AUTH@github.com/$USER/$REPOSITORY.git\n",
    "\n",
    "os.environ['USER'] = os.environ['PASSWORD'] = os.environ['REPOSITORY'] = os.environ['GITHUB_AUTH'] = \"\"\n",
    "! ls\n",
    "%cd RentPredData\n",
    "! ls"
   ]
  },
  {
   "cell_type": "code",
   "execution_count": 1,
   "metadata": {},
   "outputs": [
    {
     "name": "stderr",
     "output_type": "stream",
     "text": [
      "C:\\Users\\Rybak\\.conda\\envs\\Scraper3.6\\lib\\site-packages\\sklearn\\externals\\joblib\\__init__.py:15: FutureWarning: sklearn.externals.joblib is deprecated in 0.21 and will be removed in 0.23. Please import this functionality directly from joblib, which can be installed with: pip install joblib. If this warning is raised when loading pickled models, you may need to re-serialize those models with scikit-learn 0.21+.\n",
      "  warnings.warn(msg, category=FutureWarning)\n"
     ]
    }
   ],
   "source": [
    "#XGBoost\n",
    "# https://stackabuse.com/gradient-boosting-classifiers-in-python-with-scikit-learn/\n",
    "# https://blogs.sas.com/content/subconsciousmusings/2017/04/12/machine-learning-algorithm-use/\n",
    "import pandas as pd\n",
    "import sqlite3\n",
    "from sklearn.model_selection import train_test_split\n",
    "from xgboost import XGBRegressor\n",
    "from sklearn.externals import joblib\n",
    "from sklearn.preprocessing import OneHotEncoder"
   ]
  },
  {
   "cell_type": "markdown",
   "metadata": {},
   "source": [
    "# Data Selection from DB"
   ]
  },
  {
   "cell_type": "code",
   "execution_count": 2,
   "metadata": {},
   "outputs": [
    {
     "name": "stdout",
     "output_type": "stream",
     "text": [
      "Rent Shape:  (90637, 37)\n",
      "Buy Shape:  (75, 38)\n"
     ]
    },
    {
     "data": {
      "text/html": [
       "<div>\n",
       "<style scoped>\n",
       "    .dataframe tbody tr th:only-of-type {\n",
       "        vertical-align: middle;\n",
       "    }\n",
       "\n",
       "    .dataframe tbody tr th {\n",
       "        vertical-align: top;\n",
       "    }\n",
       "\n",
       "    .dataframe thead th {\n",
       "        text-align: right;\n",
       "    }\n",
       "</style>\n",
       "<table border=\"1\" class=\"dataframe\">\n",
       "  <thead>\n",
       "    <tr style=\"text-align: right;\">\n",
       "      <th></th>\n",
       "      <th>immo_id</th>\n",
       "      <th>year</th>\n",
       "      <th>month</th>\n",
       "      <th>day</th>\n",
       "      <th>title</th>\n",
       "      <th>url</th>\n",
       "      <th>city</th>\n",
       "      <th>postcode</th>\n",
       "      <th>quarter</th>\n",
       "      <th>street</th>\n",
       "      <th>...</th>\n",
       "      <th>additional_info</th>\n",
       "      <th>equipment</th>\n",
       "      <th>provision</th>\n",
       "      <th>provision_percent</th>\n",
       "      <th>land_transfer</th>\n",
       "      <th>land_transfer_percent</th>\n",
       "      <th>notary</th>\n",
       "      <th>notary_percent</th>\n",
       "      <th>entry_land</th>\n",
       "      <th>entry_land_percent</th>\n",
       "    </tr>\n",
       "  </thead>\n",
       "  <tbody>\n",
       "    <tr>\n",
       "      <th>0</th>\n",
       "      <td>29301391</td>\n",
       "      <td>2020</td>\n",
       "      <td>2</td>\n",
       "      <td>10</td>\n",
       "      <td>Ruhige, saubere Appartements / 4 km bis Mensa ...</td>\n",
       "      <td>https://www.immobilienscout24.de/expose/29301391</td>\n",
       "      <td>Münster</td>\n",
       "      <td>48161</td>\n",
       "      <td>Nienberge</td>\n",
       "      <td>Isolde-Kurz-Str.</td>\n",
       "      <td>...</td>\n",
       "      <td>Warmmiete inkl. aller (!) Nebenkosten und Eige...</td>\n",
       "      <td>Pantry-Küche (=Spüle, Kochplatten, Kühlschrank...</td>\n",
       "      <td>0.0</td>\n",
       "      <td>0.0</td>\n",
       "      <td>0.0</td>\n",
       "      <td>0.0</td>\n",
       "      <td>0.0</td>\n",
       "      <td>0.0</td>\n",
       "      <td>0.0</td>\n",
       "      <td>0.0</td>\n",
       "    </tr>\n",
       "    <tr>\n",
       "      <th>1</th>\n",
       "      <td>29301750</td>\n",
       "      <td>2020</td>\n",
       "      <td>2</td>\n",
       "      <td>10</td>\n",
       "      <td>Helle, gut geschnittene 3-Zimmer Wohnung</td>\n",
       "      <td>https://www.immobilienscout24.de/expose/29301750</td>\n",
       "      <td>Unna (Kreis)</td>\n",
       "      <td>59368</td>\n",
       "      <td>Werne</td>\n",
       "      <td>Bahnhofstraße</td>\n",
       "      <td>...</td>\n",
       "      <td>Sie können einen unverbindlichen Besichtigungs...</td>\n",
       "      <td>Das Wohnzimmer ist mit Parkettboden ausgestatt...</td>\n",
       "      <td>0.0</td>\n",
       "      <td>0.0</td>\n",
       "      <td>0.0</td>\n",
       "      <td>0.0</td>\n",
       "      <td>0.0</td>\n",
       "      <td>0.0</td>\n",
       "      <td>0.0</td>\n",
       "      <td>0.0</td>\n",
       "    </tr>\n",
       "    <tr>\n",
       "      <th>2</th>\n",
       "      <td>29718866</td>\n",
       "      <td>2020</td>\n",
       "      <td>2</td>\n",
       "      <td>10</td>\n",
       "      <td>ruhige  helle 2-Zimmer-Wohnung in der oberen O...</td>\n",
       "      <td>https://www.immobilienscout24.de/expose/29718866</td>\n",
       "      <td>Plauen</td>\n",
       "      <td>8527</td>\n",
       "      <td>Reinsdorf</td>\n",
       "      <td>Stegerstraße</td>\n",
       "      <td>...</td>\n",
       "      <td>öffentliche Parkplätze vor Haus vorhanden</td>\n",
       "      <td>Bad ohne Fenster mit Dusche, \\r\\nkleiner Abste...</td>\n",
       "      <td>0.0</td>\n",
       "      <td>0.0</td>\n",
       "      <td>0.0</td>\n",
       "      <td>0.0</td>\n",
       "      <td>0.0</td>\n",
       "      <td>0.0</td>\n",
       "      <td>0.0</td>\n",
       "      <td>0.0</td>\n",
       "    </tr>\n",
       "    <tr>\n",
       "      <th>3</th>\n",
       "      <td>29718867</td>\n",
       "      <td>2020</td>\n",
       "      <td>2</td>\n",
       "      <td>10</td>\n",
       "      <td>Schöne 2-Zimmer-Wohnung mit EBK</td>\n",
       "      <td>https://www.immobilienscout24.de/expose/29718867</td>\n",
       "      <td>Plauen</td>\n",
       "      <td>8527</td>\n",
       "      <td>Obere Aue</td>\n",
       "      <td>Trockentalstr.</td>\n",
       "      <td>...</td>\n",
       "      <td>separate Stellplatzanmietung möglich</td>\n",
       "      <td>Bad ohne Fenster, mit Wanne, grosse Spiegelflä...</td>\n",
       "      <td>0.0</td>\n",
       "      <td>0.0</td>\n",
       "      <td>0.0</td>\n",
       "      <td>0.0</td>\n",
       "      <td>0.0</td>\n",
       "      <td>0.0</td>\n",
       "      <td>0.0</td>\n",
       "      <td>0.0</td>\n",
       "    </tr>\n",
       "    <tr>\n",
       "      <th>4</th>\n",
       "      <td>29718995</td>\n",
       "      <td>2020</td>\n",
       "      <td>2</td>\n",
       "      <td>10</td>\n",
       "      <td>Schöne helle- ruhige  2-Raum-Wohnung   mit Ter...</td>\n",
       "      <td>https://www.immobilienscout24.de/expose/29718995</td>\n",
       "      <td>Plauen</td>\n",
       "      <td>8527</td>\n",
       "      <td>Obere Aue</td>\n",
       "      <td>Trockentalstr.</td>\n",
       "      <td>...</td>\n",
       "      <td>separte Stellplatzanmietung möglich</td>\n",
       "      <td>Großes Wohnzimmer, in allen Räumen neuer Lamin...</td>\n",
       "      <td>0.0</td>\n",
       "      <td>0.0</td>\n",
       "      <td>0.0</td>\n",
       "      <td>0.0</td>\n",
       "      <td>0.0</td>\n",
       "      <td>0.0</td>\n",
       "      <td>0.0</td>\n",
       "      <td>0.0</td>\n",
       "    </tr>\n",
       "  </tbody>\n",
       "</table>\n",
       "<p>5 rows × 37 columns</p>\n",
       "</div>"
      ],
      "text/plain": [
       "    immo_id  year month day  \\\n",
       "0  29301391  2020     2  10   \n",
       "1  29301750  2020     2  10   \n",
       "2  29718866  2020     2  10   \n",
       "3  29718867  2020     2  10   \n",
       "4  29718995  2020     2  10   \n",
       "\n",
       "                                               title  \\\n",
       "0  Ruhige, saubere Appartements / 4 km bis Mensa ...   \n",
       "1           Helle, gut geschnittene 3-Zimmer Wohnung   \n",
       "2  ruhige  helle 2-Zimmer-Wohnung in der oberen O...   \n",
       "3                    Schöne 2-Zimmer-Wohnung mit EBK   \n",
       "4  Schöne helle- ruhige  2-Raum-Wohnung   mit Ter...   \n",
       "\n",
       "                                                url          city  postcode  \\\n",
       "0  https://www.immobilienscout24.de/expose/29301391       Münster     48161   \n",
       "1  https://www.immobilienscout24.de/expose/29301750  Unna (Kreis)     59368   \n",
       "2  https://www.immobilienscout24.de/expose/29718866        Plauen      8527   \n",
       "3  https://www.immobilienscout24.de/expose/29718867        Plauen      8527   \n",
       "4  https://www.immobilienscout24.de/expose/29718995        Plauen      8527   \n",
       "\n",
       "     quarter            street  ...  \\\n",
       "0  Nienberge  Isolde-Kurz-Str.  ...   \n",
       "1      Werne     Bahnhofstraße  ...   \n",
       "2  Reinsdorf     Stegerstraße   ...   \n",
       "3  Obere Aue    Trockentalstr.  ...   \n",
       "4  Obere Aue    Trockentalstr.  ...   \n",
       "\n",
       "                                     additional_info  \\\n",
       "0  Warmmiete inkl. aller (!) Nebenkosten und Eige...   \n",
       "1  Sie können einen unverbindlichen Besichtigungs...   \n",
       "2          öffentliche Parkplätze vor Haus vorhanden   \n",
       "3               separate Stellplatzanmietung möglich   \n",
       "4                separte Stellplatzanmietung möglich   \n",
       "\n",
       "                                           equipment provision  \\\n",
       "0  Pantry-Küche (=Spüle, Kochplatten, Kühlschrank...       0.0   \n",
       "1  Das Wohnzimmer ist mit Parkettboden ausgestatt...       0.0   \n",
       "2  Bad ohne Fenster mit Dusche, \\r\\nkleiner Abste...       0.0   \n",
       "3  Bad ohne Fenster, mit Wanne, grosse Spiegelflä...       0.0   \n",
       "4  Großes Wohnzimmer, in allen Räumen neuer Lamin...       0.0   \n",
       "\n",
       "  provision_percent land_transfer land_transfer_percent notary notary_percent  \\\n",
       "0               0.0           0.0                   0.0    0.0            0.0   \n",
       "1               0.0           0.0                   0.0    0.0            0.0   \n",
       "2               0.0           0.0                   0.0    0.0            0.0   \n",
       "3               0.0           0.0                   0.0    0.0            0.0   \n",
       "4               0.0           0.0                   0.0    0.0            0.0   \n",
       "\n",
       "  entry_land  entry_land_percent  \n",
       "0        0.0                 0.0  \n",
       "1        0.0                 0.0  \n",
       "2        0.0                 0.0  \n",
       "3        0.0                 0.0  \n",
       "4        0.0                 0.0  \n",
       "\n",
       "[5 rows x 37 columns]"
      ]
     },
     "execution_count": 2,
     "metadata": {},
     "output_type": "execute_result"
    }
   ],
   "source": [
    "cnx_rent = sqlite3.connect('real-estate-rent.db')\n",
    "cnx_buy = sqlite3.connect('real-estate-buy.db')\n",
    "\n",
    "df_rent = pd.read_sql_query(\"SELECT * FROM immoscout\", cnx_rent)\n",
    "df_buy = pd.read_sql_query(\"SELECT * FROM immoscout\", cnx_buy)\n",
    "cnx_rent.close()\n",
    "cnx_buy.close()\n",
    "print('Rent Shape: ', df_rent.shape)\n",
    "print('Buy Shape: ', df_buy.shape)\n",
    "df_rent.head()"
   ]
  },
  {
   "cell_type": "markdown",
   "metadata": {},
   "source": [
    "# Methods"
   ]
  },
  {
   "cell_type": "code",
   "execution_count": 3,
   "metadata": {},
   "outputs": [],
   "source": [
    "def encode_data_for_training(df):\n",
    "    # Prepare the training data for training\n",
    "    # Features:\n",
    "    # Data One Hot Encoding\n",
    "    # will save the encoder files in the folder\n",
    "    # use bag of words for one hot encoding\n",
    "    \n",
    "    #df.immo_id = df.immo_id.astype(str)\n",
    "    \n",
    "    #set to True or False and then to 1 or 0\n",
    "    df[\"balcony\"] = df[\"balcony\"] == \"true\"\n",
    "    df[\"balcony\"] = df.balcony.astype(int)\n",
    "    df[\"cellar\"] = df[\"cellar\"] == \"true\"\n",
    "    df[\"cellar\"] = df.cellar.astype(int)\n",
    "    df[\"garden\"] = df[\"garden\"] == \"true\"\n",
    "    df[\"garden\"] = df.garden.astype(int)\n",
    "    df[\"lift\"] = df[\"lift\"] == \"true\"\n",
    "    df[\"lift\"] = df.lift.astype(int)\n",
    "    \n",
    "    # one hot city encoding\n",
    "    enc_city = OneHotEncoder(handle_unknown='ignore')\n",
    "    enc_city.fit(df[['city']])\n",
    "    df_city_enc = pd.DataFrame(data=enc_city.transform(df[['city']]).toarray(), columns=enc_city.get_feature_names(['city']), dtype=bool)\n",
    "    df_city_enc = df_city_enc * 1\n",
    "    # save \n",
    "    joblib.dump(enc_city, 'encoder_city.joblib')\n",
    "\n",
    "    # one hot quarter encoding\n",
    "    enc_quarter = OneHotEncoder(handle_unknown='ignore')\n",
    "    enc_quarter.fit(df2[['quarter']])\n",
    "    df_quarter_enc = pd.DataFrame(data=enc_quarter.transform(df[['quarter']]).toarray(), columns=enc_quarter.get_feature_names(['quarter']), dtype=bool)\n",
    "    df_quarter_enc = df_quarter_enc * 1\n",
    "    # save \n",
    "    joblib.dump(enc_quarter, 'encoder_quarter.joblib')\n",
    "\n",
    "    # concatenate training data\n",
    "    X = pd.concat((df[['balcony', 'cellar', 'garden', 'lift', 'livingSpace', 'numberOfRooms']], df_city_enc, df_quarter_enc), axis=1)\n",
    "    y = df[[\"value\"]]\n",
    "    X = bag_of_words(X, df)\n",
    "    return (X, y)\n",
    "\n",
    "def predict_data(df, model, enc_city, enc_quarter):\n",
    "    # predict data with given model\n",
    "    # the formating of the data should be the same as the trained model\n",
    "    \n",
    "    #set to True or False and then to 1 or 0\n",
    "    df[\"balcony\"] = df[\"balcony\"] == \"true\"\n",
    "    df[\"balcony\"] = df.balcony.astype(int)\n",
    "    df[\"cellar\"] = df[\"cellar\"] == \"true\"\n",
    "    df[\"cellar\"] = df.cellar.astype(int)\n",
    "    df[\"garden\"] = df[\"garden\"] == \"true\"\n",
    "    df[\"garden\"] = df.garden.astype(int)\n",
    "    df[\"lift\"] = df[\"lift\"] == \"true\"\n",
    "    df[\"lift\"] = df.lift.astype(int)\n",
    "    \n",
    "    # enc_city, enc_quarter\n",
    "    hot_city = pd.DataFrame(data=enc_city.transform(df[['city']]).toarray(), columns=enc_city.get_feature_names(['city']), dtype=bool)\n",
    "    hot_city = hot_city * 1\n",
    "    hot_quarter = pd.DataFrame(data=enc_quarter.transform(df[['quarter']]).toarray(), columns=enc_quarter.get_feature_names(['quarter']), dtype=bool)\n",
    "    hot_quarter = hot_quarter * 1\n",
    "    # data for prediction\n",
    "    X = pd.concat((df[['balcony', 'cellar', 'garden', 'lift', 'livingSpace', 'numberOfRooms']], hot_city, hot_quarter), axis=1)\n",
    "    y = df[[\"value\"]]\n",
    "    X = bag_of_words(X, df)\n",
    "    y_pred = model.predict(X)\n",
    "    return y_pred\n",
    "    \n",
    "def bag_of_words(X, df):\n",
    "    # BagOfWords implementation\n",
    "    # As no nice and easy implementation was found this was the next best thing.\n",
    "    # For every word in the vacabulary a column is crated and added if the text includes the corresponding word.\n",
    "    vocabulary = [ \"uni\", \"modern\", \"dach\", \"loft\", \"pool\", \"wg\", \"altbau\", \"luxu\", \"terasse\", \n",
    "                  \"neubau\", \"maisonet\", \"penthouse\", \"erstbezug\", \"kamin\", \"langzeit\", \"renoviert\", \"dachgeschoss\"]\n",
    "    for word in vocabulary:\n",
    "        X[word] = 0\n",
    "        for index, row in df.iterrows():\n",
    "            if word.lower() in row[\"title\"].lower():\n",
    "                #X.set_value(index, word, 1)\n",
    "                X.at[index, word] = 1\n",
    "    return X"
   ]
  },
  {
   "cell_type": "markdown",
   "metadata": {},
   "source": [
    "# Rent Analysis\n",
    "## Data Cleaning"
   ]
  },
  {
   "cell_type": "code",
   "execution_count": 7,
   "metadata": {},
   "outputs": [],
   "source": [
    "%%capture\n",
    "df2 = df_rent[[\"title\", \"city\", \"quarter\", \"balcony\", \"cellar\",\n",
    "         \"garden\", \"lift\", \"livingSpace\", \"numberOfRooms\", \"value\"]]\n",
    "X, y = encode_data_for_training(df2)"
   ]
  },
  {
   "cell_type": "markdown",
   "metadata": {},
   "source": [
    "## Training"
   ]
  },
  {
   "cell_type": "code",
   "execution_count": 9,
   "metadata": {},
   "outputs": [
    {
     "name": "stdout",
     "output_type": "stream",
     "text": [
      "Wall time: 19min 20s\n"
     ]
    },
    {
     "data": {
      "text/plain": [
       "XGBRegressor(base_score=0.5, booster='gbtree', colsample_bylevel=1,\n",
       "             colsample_bynode=1, colsample_bytree=1, gamma=0,\n",
       "             importance_type='gain', learning_rate=0.1, max_delta_step=0,\n",
       "             max_depth=3, min_child_weight=1, missing=None, n_estimators=100,\n",
       "             n_jobs=1, nthread=None, objective='reg:squarederror',\n",
       "             random_state=0, reg_alpha=0, reg_lambda=1, scale_pos_weight=1,\n",
       "             seed=None, silent=None, subsample=1, verbosity=1)"
      ]
     },
     "execution_count": 9,
     "metadata": {},
     "output_type": "execute_result"
    }
   ],
   "source": [
    "%%time\n",
    "X_train, X_test, y_train, y_test = train_test_split(X, y, test_size = 0.2)\n",
    "#XGBBoosting -------------------\n",
    "xgb_reg = XGBRegressor(objective ='reg:squarederror')\n",
    "xgb_reg.fit(X_train, y_train)"
   ]
  },
  {
   "cell_type": "code",
   "execution_count": 10,
   "metadata": {},
   "outputs": [
    {
     "name": "stdout",
     "output_type": "stream",
     "text": [
      "0.7209947784436077\n"
     ]
    }
   ],
   "source": [
    "score = xgb_reg.score(X_test, y_test)\n",
    "print(score)"
   ]
  },
  {
   "cell_type": "markdown",
   "metadata": {},
   "source": [
    "## Save Model"
   ]
  },
  {
   "cell_type": "code",
   "execution_count": 11,
   "metadata": {},
   "outputs": [],
   "source": [
    "joblib.dump(xgb_reg, 'model_1.sav')"
   ]
  },
  {
   "cell_type": "markdown",
   "metadata": {},
   "source": [
    "## Max Learning\n",
    "\n",
    "learning with 100% of data"
   ]
  },
  {
   "cell_type": "code",
   "execution_count": 8,
   "metadata": {},
   "outputs": [
    {
     "name": "stdout",
     "output_type": "stream",
     "text": [
      "Wall time: 25min 17s\n"
     ]
    },
    {
     "data": {
      "text/plain": [
       "XGBRegressor(base_score=0.5, booster='gbtree', colsample_bylevel=1,\n",
       "             colsample_bynode=1, colsample_bytree=1, gamma=0,\n",
       "             importance_type='gain', learning_rate=0.1, max_delta_step=0,\n",
       "             max_depth=3, min_child_weight=1, missing=None, n_estimators=100,\n",
       "             n_jobs=1, nthread=None, objective='reg:squarederror',\n",
       "             random_state=0, reg_alpha=0, reg_lambda=1, scale_pos_weight=1,\n",
       "             seed=None, silent=None, subsample=1, verbosity=1)"
      ]
     },
     "execution_count": 8,
     "metadata": {},
     "output_type": "execute_result"
    }
   ],
   "source": [
    "%%time\n",
    "#max learning with all the data\n",
    "xgb_reg_max = XGBRegressor(objective ='reg:squarederror')\n",
    "xgb_reg_max.fit(X, y)"
   ]
  },
  {
   "cell_type": "markdown",
   "metadata": {},
   "source": [
    "## Save Max Model"
   ]
  },
  {
   "cell_type": "code",
   "execution_count": 9,
   "metadata": {},
   "outputs": [
    {
     "data": {
      "text/plain": [
       "['model_1_max.sav']"
      ]
     },
     "execution_count": 9,
     "metadata": {},
     "output_type": "execute_result"
    }
   ],
   "source": [
    "joblib.dump(xgb_reg_max, 'model_1_max.sav')"
   ]
  },
  {
   "cell_type": "code",
   "execution_count": 10,
   "metadata": {},
   "outputs": [
    {
     "name": "stdout",
     "output_type": "stream",
     "text": [
      "0.9997453215629898\n"
     ]
    }
   ],
   "source": [
    "score = xgb_reg_max.score(X, y)\n",
    "print(score)"
   ]
  },
  {
   "cell_type": "markdown",
   "metadata": {},
   "source": [
    "# Buy Analysis\n",
    "## load Model"
   ]
  },
  {
   "cell_type": "code",
   "execution_count": 4,
   "metadata": {},
   "outputs": [
    {
     "data": {
      "text/plain": [
       "XGBRegressor(base_score=0.5, booster='gbtree', colsample_bylevel=1,\n",
       "             colsample_bynode=1, colsample_bytree=1, gamma=0,\n",
       "             importance_type='gain', learning_rate=0.1, max_delta_step=0,\n",
       "             max_depth=3, min_child_weight=1, missing=nan, n_estimators=100,\n",
       "             n_jobs=1, nthread=None, objective='reg:squarederror',\n",
       "             random_state=0, reg_alpha=0, reg_lambda=1, scale_pos_weight=1,\n",
       "             seed=None, silent=None, subsample=1, verbosity=1)"
      ]
     },
     "execution_count": 4,
     "metadata": {},
     "output_type": "execute_result"
    }
   ],
   "source": [
    "filename = 'model_1_max.sav'\n",
    "loaded_model = joblib.load(filename)\n",
    "loaded_model"
   ]
  },
  {
   "cell_type": "markdown",
   "metadata": {},
   "source": [
    "## Predict Data"
   ]
  },
  {
   "cell_type": "code",
   "execution_count": 5,
   "metadata": {},
   "outputs": [],
   "source": [
    "%%capture\n",
    "df2 = df_buy[[\"title\", \"city\", \"quarter\", \"balcony\", \"cellar\",\n",
    "         \"garden\", \"lift\", \"livingSpace\", \"numberOfRooms\", \"value\"]]\n",
    "\n",
    "encoder_city = joblib.load('encoder_city.joblib')\n",
    "encoder_quarter = joblib.load('encoder_quarter.joblib')\n",
    "\n",
    "y_pred = predict_data(df2, loaded_model, encoder_city, encoder_quarter)"
   ]
  },
  {
   "cell_type": "code",
   "execution_count": 6,
   "metadata": {},
   "outputs": [
    {
     "data": {
      "text/plain": [
       "(75,)"
      ]
     },
     "execution_count": 6,
     "metadata": {},
     "output_type": "execute_result"
    }
   ],
   "source": [
    "y_pred.shape"
   ]
  },
  {
   "cell_type": "markdown",
   "metadata": {},
   "source": [
    "# Data Filtering and Calculations"
   ]
  },
  {
   "cell_type": "code",
   "execution_count": 7,
   "metadata": {},
   "outputs": [],
   "source": [
    "\n",
    "df_output = df_buy.copy(deep=False)\n",
    "df_output['prediction'] = y_pred\n",
    "#df_output['all_costs'] = df_buy['provision'] + df_buy['land_transfer'] + df_buy['notary'] + df_buy['entry_land']+ df_buy['value']\n",
    "df_output['rendite_netto'] = ( 12 * df_output['prediction'] ) / df_buy['value']\n",
    "#df_output['rendite_brutto'] = ( 12 * df_output['prediction'] ) / df_buy['all_costs']\n",
    "df_output['preis_m2'] = df_buy['value'] / df_buy['livingSpace']\n",
    "#df_output.drop(columns=['object_description', 'area', 'additional_info', 'equipment'])\n",
    "#df_output.drop(columns=['area'])\n",
    "#df_buy['area'][10] = \"Dimitri\"\n",
    "#df_output['area'][10]\n",
    "#df_buy['area'][10]"
   ]
  },
  {
   "cell_type": "markdown",
   "metadata": {},
   "source": [
    "# Save to CSV"
   ]
  },
  {
   "cell_type": "code",
   "execution_count": 8,
   "metadata": {},
   "outputs": [],
   "source": [
    "df_output.to_csv(\"data_predict.xls\", sep=';', decimal=\",\", encoding='utf-8-sig')"
   ]
  },
  {
   "cell_type": "code",
   "execution_count": null,
   "metadata": {},
   "outputs": [],
   "source": []
  }
 ],
 "metadata": {
  "file_extension": ".py",
  "kernelspec": {
   "display_name": "Python 3",
   "language": "python",
   "name": "python3"
  },
  "language_info": {
   "codemirror_mode": {
    "name": "ipython",
    "version": 3
   },
   "file_extension": ".py",
   "mimetype": "text/x-python",
   "name": "python",
   "nbconvert_exporter": "python",
   "pygments_lexer": "ipython3",
   "version": "3.7.5"
  },
  "mimetype": "text/x-python",
  "name": "python",
  "npconvert_exporter": "python",
  "pygments_lexer": "ipython3",
  "version": 3
 },
 "nbformat": 4,
 "nbformat_minor": 2
}
